{
 "cells": [
  {
   "cell_type": "markdown",
   "metadata": {},
   "source": [
    "# 3/19 Worksheet\n",
    "\n",
    "Answer the following questions on your own or in a group to the best of you ability.\n",
    "\n",
    "Run the first code block to import numpy"
   ]
  },
  {
   "cell_type": "code",
   "execution_count": 1,
   "metadata": {},
   "outputs": [],
   "source": [
    "import numpy as np"
   ]
  },
  {
   "cell_type": "markdown",
   "metadata": {},
   "source": [
    "#### 1\n",
    "\n",
    "Change the index of the array `arr` to make `num` equal to `5`. "
   ]
  },
  {
   "cell_type": "code",
   "execution_count": null,
   "metadata": {},
   "outputs": [],
   "source": [
    "arr = np.array([4, 2, 1, 5, 6, 7])\n",
    "\n",
    "num = arr[5]\n",
    "print(num)"
   ]
  },
  {
   "cell_type": "markdown",
   "metadata": {},
   "source": [
    "#### 2\n",
    "\n",
    "Now make a few arrays of different shapes. I already put in the basic code to check the shape of the array. (Note that I did not say you had to type them all out by hand)\n",
    "\n",
    "2a. Make a array of shape `(3, 2)`\n",
    "\n",
    "2b. Make a array of shape `(2,)`\n",
    "\n",
    "2c. Make a array of shape `(2,4)`\n",
    "\n",
    "2d. Make a array of shape `(2, 4, 4)`\n",
    "\n",
    "2f. Index a item from your array\n",
    "\n",
    "**Extra credit**\n",
    "\n",
    "2g. Index a list of shape `(4,)` from your array"
   ]
  },
  {
   "cell_type": "code",
   "execution_count": 2,
   "metadata": {},
   "outputs": [
    {
     "name": "stdout",
     "output_type": "stream",
     "text": [
      "(4,)\n"
     ]
    }
   ],
   "source": [
    "arr = np.array([4, 2, 13, 4])\n",
    "\n",
    "print(arr.shape)"
   ]
  },
  {
   "cell_type": "markdown",
   "metadata": {},
   "source": [
    "#### 3\n",
    "\n",
    "Practice complex array creation. For these I recommend using numpy functions.\n",
    "\n",
    "3a. Make a array of shape `(100, 4)` \n",
    "\n",
    "3b. Make a array of shape `(1000, 45)` that contains all zeros\n",
    "\n",
    "3c. Set the 3rd index to all fives\n",
    "\n",
    "3d. Make a array of shape `(23, 4)` that contains all ones\n",
    "\n",
    "3e. Make a array that has all its elements assigned to what was in memory before it was used by python"
   ]
  },
  {
   "cell_type": "code",
   "execution_count": 4,
   "metadata": {},
   "outputs": [
    {
     "name": "stdout",
     "output_type": "stream",
     "text": [
      "(134, 2)\n"
     ]
    }
   ],
   "source": [
    "arr = np.zeros((134, 2))\n",
    "\n",
    "print(arr.shape)"
   ]
  },
  {
   "cell_type": "markdown",
   "metadata": {},
   "source": [
    "#### 4\n",
    "\n",
    "Working with some array attributes\n",
    "\n",
    "4a. Make a array of your choice\n",
    "\n",
    "4b. Print out the `max` of that array\n",
    "\n",
    "4c. Print out the `ndim` of a array what dose this represent how dose it relate to `len(arr.shape)` what dose this number correspond with.\n",
    "\n",
    "4d. Make a python list that represents the range of a array in the form `[min, max]`.\n",
    "\n",
    "4e. Print the `dtype` of the array\n",
    "\n",
    "**Extra credit**\n",
    "\n",
    "4f. What is the `itemsize` attribute how dose it relate to `dtype`. (A byte has 8 bits)"
   ]
  },
  {
   "cell_type": "markdown",
   "metadata": {},
   "source": [
    "arr = np.zeros((134, 2))\n",
    "\n",
    "print(arr)j\n",
    "print(arr.shape)"
   ]
  },
  {
   "cell_type": "markdown",
   "metadata": {},
   "source": [
    "#### The final extra credit\n",
    "\n",
    "- Make a array of your choice and fill it with numbers\n",
    "- Check and note the `.dtype`\n",
    "- Now replace one element with a `string` or `U11`\n",
    "- Check and note the `.dtype`\n",
    "- What changed? What dose this tell us about numpy?"
   ]
  }
 ],
 "metadata": {
  "interpreter": {
   "hash": "65d6dec99759e27bb9fe18daa176a8b15698fe668f18f3393ecb5373ee3f5315"
  },
  "kernelspec": {
   "display_name": "Python 3.9.9 64-bit",
   "language": "python",
   "name": "python3"
  },
  "language_info": {
   "codemirror_mode": {
    "name": "ipython",
    "version": 3
   },
   "file_extension": ".py",
   "mimetype": "text/x-python",
   "name": "python",
   "nbconvert_exporter": "python",
   "pygments_lexer": "ipython3",
   "version": "3.9.9"
  },
  "orig_nbformat": 4
 },
 "nbformat": 4,
 "nbformat_minor": 2
}
