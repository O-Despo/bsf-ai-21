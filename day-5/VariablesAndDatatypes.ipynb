{
  "cells": [
    {
      "cell_type": "markdown",
      "metadata": {
        "id": "o2Z-xcmQJAEj"
      },
      "source": [
        "# A Overview Of Python\n",
        "\n",
        "This document will provide a brief overview or reintroduction to python. It will go over basic syntax, variables, functions, data types, and classes."
      ]
    },
    {
      "cell_type": "markdown",
      "metadata": {
        "id": "370AK2rLJdd1"
      },
      "source": [
        "## Variables\n",
        "\n",
        "A variable is a *label* (or name) with an associated piece of data. You can access and change this data. Unlike other languages, you do not have to establish the data type of a variable when declaring it.\n",
        "\n",
        "When naming variables make the names descriptive but short, use underscores instead of spaces. For more general info read clean code."
      ]
    },
    {
      "cell_type": "code",
      "execution_count": null,
      "metadata": {
        "id": "wy7EzPnfIm5D"
      },
      "outputs": [],
      "source": [
        "my_var = 4;\n",
        "my_message = \"Hello World\"\n",
        "print(my_message)"
      ]
    },
    {
      "cell_type": "markdown",
      "metadata": {
        "id": "guN-b2nKK89e"
      },
      "source": [
        "## Data types\n",
        "\n",
        "Data types are the form of data associated with your variables. For example, a number is a different type of data compared to a character.\n",
        "\n",
        "Python has the following data types that you need to worry about.\n",
        "\n",
        "- **Strings**: a series of characters like a word or sentence\n",
        "- **integer**: a whole number including negatives e.g. (1, -60, 234,0)\n",
        "- **float**: a number with a decimal point (3.14, -42.3)\n",
        "- **complex**: a combo of a real number and imaginary numbers(13i)\n",
        "- **list**: a list of items\n",
        "- **tuple**: a list that cannot be changed\n",
        "- **range**: like a list of all whole numbers between two points\n",
        "- **dict**: a dictionary, its like a list with names for all the things that are stored in it\n",
        "- **bool**: a true or false \n",
        "\n",
        "\n",
        "These ones are less important\n",
        "\n",
        "- **set**: like a list but unordered and unindexed\n",
        "- **bytes**: a way to use only bytes to store data which is static(python does not use the most basic method of storage) \n",
        "- **byteArray**: like bytes but you can change it (also called mutable)\n",
        "\n"
      ]
    },
    {
      "cell_type": "code",
      "execution_count": null,
      "metadata": {
        "id": "Bx8RjUy7OPOC"
      },
      "outputs": [],
      "source": [
        "my_string =  \"hello\"\n",
        "my_int = 4\n",
        "my_float = 5.34\n",
        "my_list = [4, 5, \"a string\", 3.3]\n",
        "my_tuple = (4, \"words\")\n",
        "my_range = range(0,3)\n",
        "my_dict = {'key1': 45, 'name': \"Oliver\"}\n",
        "my_bool = True"
      ]
    },
    {
      "cell_type": "markdown",
      "metadata": {
        "id": "kBssdmKQOrX-"
      },
      "source": [
        "### Integers and Floats\n",
        "\n",
        "Integers can be any number including negatives. Floats are any numbers with a fraction. Math operations can be performed on them"
      ]
    },
    {
      "cell_type": "code",
      "execution_count": null,
      "metadata": {
        "id": "zAYGh7XEO5Y3"
      },
      "outputs": [],
      "source": [
        "int1 = 4\n",
        "float1 = 6.45\n",
        "\n",
        "# Math operations\n",
        "\n",
        "#Addition and Subtraction\n",
        "num1 = int1 + float1\n",
        "num2 = 4.5 - float1\n",
        "\n",
        "# Mutiplication and division\n",
        "num3 = int1 * 3 \n",
        "num4 = float1 / 3\n",
        "\n",
        "# Powers and remainders\n",
        "num5 = 5 ** 2 # 5 to the power of 2\n",
        "num6 = 16 % 6 # the remainder from divition so in this case 4"
      ]
    },
    {
      "cell_type": "markdown",
      "metadata": {
        "id": "ry5EpeP7SXb-"
      },
      "source": [
        "### Strings\n",
        "\n",
        "Strings are lists series of characters. Just like a word is a series of characters. Strings can store any mix of Unicode charters but sometimes need special symbols. These need to be escaped. You can add strings together this is called string concatenation. You can use double and single quotes to assign strings."
      ]
    },
    {
      "cell_type": "code",
      "execution_count": null,
      "metadata": {
        "colab": {
          "base_uri": "https://localhost:8080/"
        },
        "id": "DB4zLo4ASqHD",
        "outputId": "6b9a12f6-156f-429b-a1b4-faef4abfdb54"
      },
      "outputs": [
        {
          "name": "stdout",
          "output_type": "stream",
          "text": [
            "Linux is the best operating system hands down.This is beacuse Linux's tools are great and you can control it fully from the command line. No other OS compairs.\n"
          ]
        }
      ],
      "source": [
        "sentence_string_1 = 'Linux is the best operating system hands down.'\n",
        "sentence_string_2 = \"This is beacuse Linux's tools are great and you can control it fully from the command line. No other OS compairs.\"\n",
        "\n",
        "the_truth = sentence_string_1 + sentence_string_2\n",
        "\n",
        "print(the_truth)"
      ]
    },
    {
      "cell_type": "markdown",
      "metadata": {
        "id": "cXvvK5gOVJvH"
      },
      "source": [
        "### Escape Charaters\n",
        "\n",
        "When assigning a string if you want to add space, a new line, or a quote that will break the definition of the string you need to escape the character.\n",
        "\n",
        "Adding a \\ before a character will escape it for a quote make it so python adds the quote to the string as a character instead of ending the string there.\n",
        "\n",
        "Also some letters have special meaning\n",
        "\n",
        "- `\\n`: makes a new line\n",
        "- `\\t`: makes a tab"
      ]
    },
    {
      "cell_type": "code",
      "execution_count": null,
      "metadata": {
        "colab": {
          "base_uri": "https://localhost:8080/"
        },
        "id": "3SIQfPZ7VtZW",
        "outputId": "2229212e-53b2-4af6-8ad0-e36fa3dca25f"
      },
      "outputs": [
        {
          "name": "stdout",
          "output_type": "stream",
          "text": [
            "Linux' is the best \t operating system \n",
            "hands down.\n"
          ]
        }
      ],
      "source": [
        "sentence_string_1 = 'Linux\\' is the best \\t operating system \\nhands down.'\n",
        "\n",
        "print(sentence_string_1)"
      ]
    },
    {
      "cell_type": "markdown",
      "metadata": {
        "id": "b0k5VzPGWYxQ"
      },
      "source": [
        "### Formated strings\n",
        "\n",
        "formated strings or f strings allow you to add variables to strings. This is done by adding a `f` to the beginning of the string and then putting a variable name in between brackets `{}` in the string."
      ]
    },
    {
      "cell_type": "code",
      "execution_count": null,
      "metadata": {
        "colab": {
          "base_uri": "https://localhost:8080/"
        },
        "id": "LfXm_WaOWrOJ",
        "outputId": "58dd81aa-f0f5-4177-84b8-fb9591d8c819"
      },
      "outputs": [
        {
          "name": "stdout",
          "output_type": "stream",
          "text": [
            "The teacher Oliver is most lickly not qualified to teach\n"
          ]
        }
      ],
      "source": [
        "person = \"Oliver\"\n",
        "f_string = f\"The teacher {person} is most lickly not qualified to teach\"\n",
        "\n",
        "print(f_string)"
      ]
    },
    {
      "cell_type": "markdown",
      "metadata": {
        "id": "-6hXB0nPXMen"
      },
      "source": [
        "### String Methods\n",
        "\n",
        "strings have methods that we will go over in detail later but for now, just think of them as a way to change strings. "
      ]
    },
    {
      "cell_type": "code",
      "execution_count": null,
      "metadata": {
        "colab": {
          "base_uri": "https://localhost:8080/"
        },
        "id": "uAPiemsTXWQh",
        "outputId": "97ccced3-fcb8-4782-8164-01f5dde5acc7"
      },
      "outputs": [
        {
          "name": "stdout",
          "output_type": "stream",
          "text": [
            "THE TEACHER OLIVER IS MOST LICKLY NOT QUALIFIED TO TEACH\n"
          ]
        }
      ],
      "source": [
        "f_upper = f_string.upper()\n",
        "print(f_upper)"
      ]
    },
    {
      "cell_type": "markdown",
      "metadata": {
        "id": "doOW-L2rasbB"
      },
      "source": [
        "## Lists\n",
        "\n",
        "Lits are somewhat self-explanatory. They are a list of items in order.\n",
        "\n",
        "A list in python can contain and data type and id defined with a comma `,` after every item between square brackets `[]`\n",
        "\n",
        "### Acsessing list data\n",
        "\n",
        "*index*: the items position in the list starting at 0\n",
        "\n",
        "```py\n",
        "my_list = [4, 23, \"hello\"]\n",
        "```\n",
        "\n",
        "To access a list of items one at a time you use an *index* between two brackets at the end of the last name. The index in coding languages usually starts at 0.\n",
        "\n",
        "```py\n",
        "my_var = my_list[0]\n",
        "```\n",
        "\n",
        "my_var is now equal to `4`"
      ]
    },
    {
      "cell_type": "code",
      "execution_count": null,
      "metadata": {
        "id": "_2qF1_N-bLO7"
      },
      "outputs": [],
      "source": [
        "my_first_list = [\"item\", 434, 23.3]\n",
        "my_list_element = my_first_list[2]\n",
        "print(my_list_element)"
      ]
    },
    {
      "cell_type": "markdown",
      "metadata": {
        "id": "WWsfzklycOw1"
      },
      "source": [
        "### Modifying Lists\n",
        "\n",
        "You can not only access but also change data in a list. As well as adding and removing data."
      ]
    },
    {
      "cell_type": "code",
      "execution_count": null,
      "metadata": {
        "id": "B0KVQ3umc8lj"
      },
      "outputs": [],
      "source": [
        "my_list = [\"item\", 434, 23.3]\n",
        "\n",
        "my_list.append(\"4\") #adds 4 to the end of the list\n",
        "\n",
        "my_list[1] = 24 #changes 434 to 24\n",
        "\n",
        "my_list.insert(1, \"code\") # inserts \"code\" at 1 index\n",
        "\n",
        "del my_list[1] #removes item at index 1\n",
        "\n",
        "#removes the last item and assigns it to last_list_item\n",
        "last_list_item = my_list.pop()\n",
        " #removes item at index 3 and assigns it to third_list_item\n",
        "third_list_item = my_list.pop(3)\n",
        "\n",
        "my_list.remove(434) #Removes 434 by its valiue instead of intex "
      ]
    },
    {
      "cell_type": "markdown",
      "metadata": {
        "id": "j7CSjuCQgH3E"
      },
      "source": [
        "## Dictionary\n",
        "\n",
        "Directions or dicts are like lists but for each element, there is a name associated with it. So you can find a value using the name of a piece of data. It is defined with brackets `{}`. Within these brackets, there are items groups into two the key and the value associated with it.\n",
        "\n",
        "```python\n",
        "my_dict = {\n",
        "  'my_key': 34,\n",
        "  'my_name': 'oliver',\n",
        "  'my_os': 'linux'\n",
        "}\n",
        "```\n",
        "\n",
        "### Acsessing data\n",
        "\n",
        "The keys of a dict are used to access its information.\n",
        "\n",
        "```python\n",
        "my_var = my_dict['my_key'] #my_var is now 34\n",
        "my_dict['my_os'] = 'windows11' \n",
        "my_dict['new_item'] = 34  #this can also add a item\n",
        "```\n",
        "\n",
        "### Removing data\n",
        "\n",
        "To remove data we can clear the list or use the `.pop()` method.\n",
        "\n",
        "```python\n",
        "my_var = my_dict.pop(\"my_os\") #my var is equal to 'windows11' and the dict no longer has that item\n",
        "my_dict.pop(\"my_key\") #This removes my_key and dose not assign it to anything\n",
        "my_dict.clear() #This clears every item from the dict\n",
        "del my_dict #fully removes the dict\n",
        "```\n",
        "\n"
      ]
    },
    {
      "cell_type": "code",
      "execution_count": null,
      "metadata": {
        "id": "W8jsr4q--WQb"
      },
      "outputs": [],
      "source": [
        "my_dict = {\n",
        "  'my_key': 34,\n",
        "  'my_name': 'oliver',\n",
        "  'my_os': 'linux'\n",
        "}\n",
        "\n",
        "my_dict.pop()"
      ]
    },
    {
      "cell_type": "markdown",
      "metadata": {
        "id": "06qI7-p6AEIE"
      },
      "source": [
        "## Bools\n",
        "\n",
        "Bools can be true or false 1 or 0.\n",
        "\n",
        "```python\n",
        "my_bool = true\n",
        "my_bool = false\n",
        "```"
      ]
    }
  ],
  "metadata": {
    "colab": {
      "name": "VariablesAndDatatypes.ipynb",
      "provenance": []
    },
    "kernelspec": {
      "display_name": "Python 3",
      "name": "python3"
    },
    "language_info": {
      "name": "python"
    }
  },
  "nbformat": 4,
  "nbformat_minor": 0
}
