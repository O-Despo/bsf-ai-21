{
  "nbformat": 4,
  "nbformat_minor": 0,
  "metadata": {
    "colab": {
      "name": "IfandLoops.ipynb",
      "provenance": []
    },
    "kernelspec": {
      "name": "python3",
      "display_name": "Python 3"
    },
    "language_info": {
      "name": "python"
    }
  },
  "cells": [
    {
      "cell_type": "markdown",
      "metadata": {
        "id": "l5mJjMCsBpwj"
      },
      "source": [
        "# Loops and if statements\n",
        "\n",
        "We want to do more than just assign things we also want to be able to access our data or do an operation without writing a code snippet for each one.\n",
        "\n",
        "## If statements\n",
        "\n",
        "When you want your code to do something based on a condition you use an if statement.\n",
        "\n",
        "```python\n",
        "if(condition):\n",
        "  do something\n",
        "```\n",
        "\n",
        "The condition is made up of something that evaluates to either true or false. You could even just put a bool in."
      ]
    },
    {
      "cell_type": "code",
      "metadata": {
        "colab": {
          "base_uri": "https://localhost:8080/"
        },
        "id": "_ZzVJWn6CzRd",
        "outputId": "3d249bb7-e2a5-4315-cef4-b04e19025dee"
      },
      "source": [
        "runCode = True\n",
        "if (runCode):\n",
        "  print('jello world')"
      ],
      "execution_count": null,
      "outputs": [
        {
          "output_type": "stream",
          "text": [
            "jello world\n"
          ],
          "name": "stdout"
        }
      ]
    },
    {
      "cell_type": "markdown",
      "metadata": {
        "id": "6jwkkC3XDC3B"
      },
      "source": [
        "## Comparison Operators\n",
        "\n",
        "If you want to do something not based on a bool but mabey based on if one number is larger or if two things are equal to each other you use a comparison operator. \n",
        "\n",
        "Python comparison operators are\n",
        "\n",
        "- `==`: Equal to\n",
        "- `!=`: Not equal to\n",
        "- `>`: greater than\n",
        "- `<`: less than\n",
        "- `>=`: greater than or equal to\n",
        "- `<=`: less than or equal to\n",
        "\n",
        "These can be used in for loops as they evaluate to true or false\n",
        "\n",
        "```python\n",
        "x = 10\n",
        "y = 12\n",
        "\n",
        "if (x <= y):\n",
        "  print(\"this was true\")\n",
        "```"
      ]
    },
    {
      "cell_type": "markdown",
      "metadata": {
        "id": "8nnJLTBUF42H"
      },
      "source": [
        "## Else statments\n",
        "\n",
        "If when an if statement evaluates to false and does not run, you want to run a different piece of code then you can use an else statement.\n",
        "\n",
        "The code inside the block will be run if the if statement block does not.\n",
        "\n",
        "```python\n",
        "if (x < y):\n",
        "  code\n",
        "else:\n",
        "  code\n",
        "```"
      ]
    },
    {
      "cell_type": "markdown",
      "metadata": {
        "id": "tpeQg89dL4nB"
      },
      "source": [
        "## Else if statments\n",
        "\n",
        "else if statments are for if you want to test a value and have code run after the statement before it evaluate to false. You can add as many of these to a statent as you want\n",
        "\n",
        "```python\n",
        "if (x < y):\n",
        "  code\n",
        "else if(x == y):\n",
        "  code\n",
        "else:\n",
        "  code\n",
        "```"
      ]
    },
    {
      "cell_type": "markdown",
      "metadata": {
        "id": "CzVkX2mmMo-E"
      },
      "source": [
        "# Loops\n",
        "\n",
        "Python has two different methods of looping or running a piece of code repeatably\n",
        "\n",
        "## for loops\n",
        "\n",
        "for loops loop through an iterable object.\n",
        "\n",
        "This means you can also use ranges or for example a database pointer\n",
        "\n",
        "```python\n",
        "my_list =  [1, 34, 6545, 2, 12]\n",
        "\n",
        "for list_item in my_list:\n",
        "  print(list_item ** 2)\n",
        "```\n",
        "\n",
        "## While loops\n",
        "\n",
        "while loops continue until a condition is met\n",
        "\n",
        "```python\n",
        "num = 0\n",
        "\n",
        "while count % 20 != 0:\n",
        "  print(f\"{num} is not evely divisable by 20\"\n",
        "```\n",
        "\n",
        "## Break and Continue\n",
        "\n",
        "`Break` is a keyword used to exit a loop altogether and continue just stops the current block\n",
        "\n",
        "\n",
        "```python\n",
        "my_list =  [1, 34, 6545, 2, 12]\n",
        "\n",
        "for list_item in my_list:\n",
        "\n",
        "  if list_item == 2: \n",
        "    break\n",
        "  else if list_item == 34:\n",
        "    continue\n",
        "  print(list_item ** 2)\n",
        "```"
      ]
    }
  ]
}