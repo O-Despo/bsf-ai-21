{
  "nbformat": 4,
  "nbformat_minor": 0,
  "metadata": {
    "colab": {
      "name": "FunctionsAndClasses.ipynb",
      "provenance": []
    },
    "kernelspec": {
      "name": "python3",
      "display_name": "Python 3"
    },
    "language_info": {
      "name": "python"
    }
  },
  "cells": [
    {
      "cell_type": "code",
      "metadata": {
        "id": "ggRg80t4PEbP"
      },
      "source": [
        ""
      ],
      "execution_count": null,
      "outputs": []
    },
    {
      "cell_type": "markdown",
      "metadata": {
        "id": "14ZMrCTlQuI0"
      },
      "source": [
        "# Function and classes\n",
        "\n",
        "Python like alomst all modern langueges has function and being object oriented it also has classes.\n",
        "\n",
        "## Functions\n",
        "\n",
        "A function is a block of code that we want to run mutible time from anywhere in our program. At its most basic level it is a block of code that you tell python to run when you **call** it.\n",
        "\n",
        "```python\n",
        "def myFuntionName():\n",
        "  what my function dose\n",
        "\n",
        "# Defines the funciton\n",
        "def print_hello_world():\n",
        "    print('hello world')\n",
        "\n",
        "# Call the function and runs the code in it\n",
        "print_hello_world()\n",
        "```\n",
        "\n",
        "However they can do much more. You can pass funcitons data that you want them to work with and have them give back the output. \n",
        "\n",
        "### `return`\n",
        "\n",
        "To give somthing back from a function you use the `return` keyword. \n",
        "\n",
        "### Paramaters\n",
        "\n",
        "Function can be passed information for them to work with in the form of paramerters. They are put between the parathereis if a function definition `def my_func (param1, param2)`. This fucntion would take two variables as input `my_func(3, 2)`. This function would then have acess to the variables `param1 = 3` and `param2 = 2`\n",
        "\n",
        "```python\n",
        "# Defines the funciton\n",
        "def mult_by_two(num):\n",
        "    return num * 2\n",
        "\n",
        "# Call the function and runs the code in it\n",
        "my_num_mult_2 = mult_by_two(3)\n",
        "```\n",
        "\n"
      ]
    },
    {
      "cell_type": "markdown",
      "metadata": {
        "id": "SDIpmh5TXGlM"
      },
      "source": [
        "## Classes\n",
        "\n",
        "A class is a prototype of a object. It defines how a object is made. You can think of a object as a real life object for example a water bottle. A water bottle can be discrbes with atrabuts (round, cylender, full) and can be modified with actions (drink, fill). These actions can modify the attributes. \n",
        "\n",
        "### Atrabutes\n",
        "\n",
        "Attributes are the pieces of data attched to a object. \n",
        "\n",
        "### Methouds\n",
        "\n",
        "Methouds are the function attached to objects\n",
        "\n",
        "```python\n",
        "class water_botle():\n",
        "  def __init__(self, color):\n",
        "    self.color = color\n",
        "    self.shape = \"cylender\"\n",
        "    self.water_level = 0\n",
        "\n",
        "  def drink(self, amount):\n",
        "    self.water_level = self.water_level - amount\n",
        "    return self.water_level\n",
        "\n",
        "my_water_bottle = water_bottle('red')\n",
        "\n",
        "my_water_bottle.drink(4)\n",
        "\n",
        "print(my_water_bottle.color)\n",
        "\n",
        "```\n",
        "\n",
        "### Acessing methouds and objects\n",
        "\n",
        "Classes data can be acsess with dot notation. A `.` at the end of the name of a class. Using this you can call fucntions and acess data\n",
        "\n",
        "```python\n",
        "my_water_bottle.drink(4) #Calling a function\n",
        "my_water_bottle.color = \"blue\"\n",
        "```\n",
        "\n",
        "### `__init__` function\n",
        "\n",
        "a function with two underscores on each side has a special meaning in python. Some examples other than `__init__` are `__iter__`. In the case of `__init__` this is called when you make a object from a class so this is where you define you inital attrabutes and take argumnets.\n",
        "\n"
      ]
    }
  ]
}